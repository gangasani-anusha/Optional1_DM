{
  "nbformat": 4,
  "nbformat_minor": 0,
  "metadata": {
    "colab": {
      "name": "Optional1_Assignment.ipynb",
      "provenance": [],
      "collapsed_sections": [
        "bdNsVOmzpBvJ",
        "GAStVe2KqqOM",
        "AF-u1GxtvicS",
        "DLBQdbY716Eb",
        "5J2x0OXl3Bc6",
        "0hCRqNTR40Uu",
        "_VbYiSS08Tth"
      ],
      "authorship_tag": "ABX9TyNW+pjPuKO1Ma1LlgF/jinp",
      "include_colab_link": true
    },
    "kernelspec": {
      "name": "python3",
      "display_name": "Python 3"
    },
    "language_info": {
      "name": "python"
    }
  },
  "cells": [
    {
      "cell_type": "markdown",
      "metadata": {
        "id": "view-in-github",
        "colab_type": "text"
      },
      "source": [
        "<a href=\"https://colab.research.google.com/github/gangasani-anusha/Optional1_DM/blob/main/Optional1_Assignment.ipynb\" target=\"_parent\"><img src=\"https://colab.research.google.com/assets/colab-badge.svg\" alt=\"Open In Colab\"/></a>"
      ]
    },
    {
      "cell_type": "markdown",
      "metadata": {
        "id": "bdNsVOmzpBvJ"
      },
      "source": [
        "# Apriori Algorithm"
      ]
    },
    {
      "cell_type": "code",
      "metadata": {
        "id": "RTupui2PpcjT"
      },
      "source": [
        "# Importing all the libraries\n",
        "import pandas as pd\n",
        "from mlxtend.preprocessing import TransactionEncoder"
      ],
      "execution_count": 1,
      "outputs": []
    },
    {
      "cell_type": "code",
      "metadata": {
        "id": "cSI6phxZnAO6"
      },
      "source": [
        "# Initializing the data\n",
        "apriori_data = [['Tommy', 'Ben', 'Joe', 'John', 'Alex', 'Charles'],\n",
        "           ['John', 'Tommy', 'Charles', 'Joe', 'Emily', 'Anna'],\n",
        "           ['Ben', 'John', 'Tommy', 'Joe'],\n",
        "           ['John', 'Alex', 'Joe', 'Tommy', 'Charles'],\n",
        "           ['Ben', 'Alex', 'Chris', 'Tommy', 'Anna', 'Emily']]"
      ],
      "execution_count": 2,
      "outputs": []
    },
    {
      "cell_type": "code",
      "metadata": {
        "id": "k0LE0mORmej9"
      },
      "source": [
        "# Transforming the data\n",
        "data1 = TransactionEncoder()\n",
        "transformed_apriori_data = data1.fit(apriori_data).transform(apriori_data)\n",
        "apriori_result = pd.DataFrame(transformed_apriori_data, columns=data1.columns_)\n",
        "apriori_result"
      ],
      "execution_count": null,
      "outputs": []
    },
    {
      "cell_type": "code",
      "metadata": {
        "id": "s3cMN9GznGNx"
      },
      "source": [
        "from mlxtend.frequent_patterns import apriori\n",
        "\n",
        "apriori(apriori_result, min_support=0.3)"
      ],
      "execution_count": null,
      "outputs": []
    },
    {
      "cell_type": "code",
      "metadata": {
        "id": "17ChEVndnKhR"
      },
      "source": [
        "apriori(apriori_result, min_support=0.7, use_colnames=True)"
      ],
      "execution_count": null,
      "outputs": []
    },
    {
      "cell_type": "markdown",
      "metadata": {
        "id": "AF-u1GxtvicS"
      },
      "source": [
        "# FpGrowth algorithm"
      ]
    },
    {
      "cell_type": "code",
      "metadata": {
        "colab": {
          "base_uri": "https://localhost:8080/"
        },
        "id": "0otTyESWf_pw",
        "outputId": "f0e8d201-8eba-428e-f373-040f5e68f521"
      },
      "source": [
        "!pip install mlxtend --upgrade"
      ],
      "execution_count": 50,
      "outputs": [
        {
          "output_type": "stream",
          "name": "stdout",
          "text": [
            "Requirement already satisfied: mlxtend in /usr/local/lib/python3.7/dist-packages (0.19.0)\n",
            "Requirement already satisfied: setuptools in /usr/local/lib/python3.7/dist-packages (from mlxtend) (57.4.0)\n",
            "Requirement already satisfied: scikit-learn>=0.20.3 in /usr/local/lib/python3.7/dist-packages (from mlxtend) (1.0.1)\n",
            "Requirement already satisfied: scipy>=1.2.1 in /usr/local/lib/python3.7/dist-packages (from mlxtend) (1.4.1)\n",
            "Requirement already satisfied: joblib>=0.13.2 in /usr/local/lib/python3.7/dist-packages (from mlxtend) (1.1.0)\n",
            "Requirement already satisfied: numpy>=1.16.2 in /usr/local/lib/python3.7/dist-packages (from mlxtend) (1.19.5)\n",
            "Requirement already satisfied: matplotlib>=3.0.0 in /usr/local/lib/python3.7/dist-packages (from mlxtend) (3.2.2)\n",
            "Requirement already satisfied: pandas>=0.24.2 in /usr/local/lib/python3.7/dist-packages (from mlxtend) (1.1.5)\n",
            "Requirement already satisfied: kiwisolver>=1.0.1 in /usr/local/lib/python3.7/dist-packages (from matplotlib>=3.0.0->mlxtend) (1.3.2)\n",
            "Requirement already satisfied: pyparsing!=2.0.4,!=2.1.2,!=2.1.6,>=2.0.1 in /usr/local/lib/python3.7/dist-packages (from matplotlib>=3.0.0->mlxtend) (3.0.6)\n",
            "Requirement already satisfied: cycler>=0.10 in /usr/local/lib/python3.7/dist-packages (from matplotlib>=3.0.0->mlxtend) (0.11.0)\n",
            "Requirement already satisfied: python-dateutil>=2.1 in /usr/local/lib/python3.7/dist-packages (from matplotlib>=3.0.0->mlxtend) (2.8.2)\n",
            "Requirement already satisfied: pytz>=2017.2 in /usr/local/lib/python3.7/dist-packages (from pandas>=0.24.2->mlxtend) (2018.9)\n",
            "Requirement already satisfied: six>=1.5 in /usr/local/lib/python3.7/dist-packages (from python-dateutil>=2.1->matplotlib>=3.0.0->mlxtend) (1.15.0)\n",
            "Requirement already satisfied: threadpoolctl>=2.0.0 in /usr/local/lib/python3.7/dist-packages (from scikit-learn>=0.20.3->mlxtend) (3.0.0)\n"
          ]
        }
      ]
    },
    {
      "cell_type": "code",
      "metadata": {
        "id": "YM5NakcedGJq"
      },
      "source": [
        "# Importing the libraries\n",
        "import pandas as pd\n",
        "from mlxtend.preprocessing import TransactionEncoder"
      ],
      "execution_count": 51,
      "outputs": []
    },
    {
      "cell_type": "code",
      "metadata": {
        "id": "TdgOjaPmgqJO"
      },
      "source": [
        "# Initializing the data\n",
        "fpgrowth_data = [['Tommy', 'Ben', 'Joe', 'John', 'Alex', 'Charles'],\n",
        "           ['John', 'Tommy', 'Charles', 'Joe', 'Emily', 'Anna'],\n",
        "           ['Ben', 'John', 'Tommy', 'Joe'],\n",
        "           ['John', 'Alex', 'Joe', 'Tommy', 'Charles'],\n",
        "           ['Ben', 'Alex', 'Chris', 'Tommy', 'Anna', 'Emily']]"
      ],
      "execution_count": 52,
      "outputs": []
    },
    {
      "cell_type": "code",
      "metadata": {
        "id": "-9me4cjt15JH",
        "colab": {
          "base_uri": "https://localhost:8080/",
          "height": 0
        },
        "outputId": "77098646-519b-4088-fc42-b160ef9f198b"
      },
      "source": [
        "# Transforming the data\n",
        "new_data = TransactionEncoder()\n",
        "transformed_fpgrowth_data = new_data.fit(fpgrowth_data).transform(fpgrowth_data)\n",
        "fpgrowth_result = pd.DataFrame(transformed_fpgrowth_data, columns=new_data.columns_)\n",
        "fpgrowth_result\n"
      ],
      "execution_count": 53,
      "outputs": [
        {
          "output_type": "execute_result",
          "data": {
            "text/html": [
              "<div>\n",
              "<style scoped>\n",
              "    .dataframe tbody tr th:only-of-type {\n",
              "        vertical-align: middle;\n",
              "    }\n",
              "\n",
              "    .dataframe tbody tr th {\n",
              "        vertical-align: top;\n",
              "    }\n",
              "\n",
              "    .dataframe thead th {\n",
              "        text-align: right;\n",
              "    }\n",
              "</style>\n",
              "<table border=\"1\" class=\"dataframe\">\n",
              "  <thead>\n",
              "    <tr style=\"text-align: right;\">\n",
              "      <th></th>\n",
              "      <th>Alex</th>\n",
              "      <th>Anna</th>\n",
              "      <th>Ben</th>\n",
              "      <th>Charles</th>\n",
              "      <th>Chris</th>\n",
              "      <th>Emily</th>\n",
              "      <th>Joe</th>\n",
              "      <th>John</th>\n",
              "      <th>Tommy</th>\n",
              "    </tr>\n",
              "  </thead>\n",
              "  <tbody>\n",
              "    <tr>\n",
              "      <th>0</th>\n",
              "      <td>True</td>\n",
              "      <td>False</td>\n",
              "      <td>True</td>\n",
              "      <td>True</td>\n",
              "      <td>False</td>\n",
              "      <td>False</td>\n",
              "      <td>True</td>\n",
              "      <td>True</td>\n",
              "      <td>True</td>\n",
              "    </tr>\n",
              "    <tr>\n",
              "      <th>1</th>\n",
              "      <td>False</td>\n",
              "      <td>True</td>\n",
              "      <td>False</td>\n",
              "      <td>True</td>\n",
              "      <td>False</td>\n",
              "      <td>True</td>\n",
              "      <td>True</td>\n",
              "      <td>True</td>\n",
              "      <td>True</td>\n",
              "    </tr>\n",
              "    <tr>\n",
              "      <th>2</th>\n",
              "      <td>False</td>\n",
              "      <td>False</td>\n",
              "      <td>True</td>\n",
              "      <td>False</td>\n",
              "      <td>False</td>\n",
              "      <td>False</td>\n",
              "      <td>True</td>\n",
              "      <td>True</td>\n",
              "      <td>True</td>\n",
              "    </tr>\n",
              "    <tr>\n",
              "      <th>3</th>\n",
              "      <td>True</td>\n",
              "      <td>False</td>\n",
              "      <td>False</td>\n",
              "      <td>True</td>\n",
              "      <td>False</td>\n",
              "      <td>False</td>\n",
              "      <td>True</td>\n",
              "      <td>True</td>\n",
              "      <td>True</td>\n",
              "    </tr>\n",
              "    <tr>\n",
              "      <th>4</th>\n",
              "      <td>True</td>\n",
              "      <td>True</td>\n",
              "      <td>True</td>\n",
              "      <td>False</td>\n",
              "      <td>True</td>\n",
              "      <td>True</td>\n",
              "      <td>False</td>\n",
              "      <td>False</td>\n",
              "      <td>True</td>\n",
              "    </tr>\n",
              "  </tbody>\n",
              "</table>\n",
              "</div>"
            ],
            "text/plain": [
              "    Alex   Anna    Ben  Charles  Chris  Emily    Joe   John  Tommy\n",
              "0   True  False   True     True  False  False   True   True   True\n",
              "1  False   True  False     True  False   True   True   True   True\n",
              "2  False  False   True    False  False  False   True   True   True\n",
              "3   True  False  False     True  False  False   True   True   True\n",
              "4   True   True   True    False   True   True  False  False   True"
            ]
          },
          "metadata": {},
          "execution_count": 53
        }
      ]
    },
    {
      "cell_type": "code",
      "metadata": {
        "colab": {
          "base_uri": "https://localhost:8080/",
          "height": 0
        },
        "id": "XVR5qNAJjvdf",
        "outputId": "692b8844-d7ec-499e-ad40-1b87806efdf9"
      },
      "source": [
        "from mlxtend.frequent_patterns import fpgrowth\n",
        "\n",
        "fpgrowth(fpgrowth_result, min_support=0.4)"
      ],
      "execution_count": 54,
      "outputs": [
        {
          "output_type": "execute_result",
          "data": {
            "text/html": [
              "<div>\n",
              "<style scoped>\n",
              "    .dataframe tbody tr th:only-of-type {\n",
              "        vertical-align: middle;\n",
              "    }\n",
              "\n",
              "    .dataframe tbody tr th {\n",
              "        vertical-align: top;\n",
              "    }\n",
              "\n",
              "    .dataframe thead th {\n",
              "        text-align: right;\n",
              "    }\n",
              "</style>\n",
              "<table border=\"1\" class=\"dataframe\">\n",
              "  <thead>\n",
              "    <tr style=\"text-align: right;\">\n",
              "      <th></th>\n",
              "      <th>support</th>\n",
              "      <th>itemsets</th>\n",
              "    </tr>\n",
              "  </thead>\n",
              "  <tbody>\n",
              "    <tr>\n",
              "      <th>0</th>\n",
              "      <td>1.0</td>\n",
              "      <td>(8)</td>\n",
              "    </tr>\n",
              "    <tr>\n",
              "      <th>1</th>\n",
              "      <td>0.8</td>\n",
              "      <td>(7)</td>\n",
              "    </tr>\n",
              "    <tr>\n",
              "      <th>2</th>\n",
              "      <td>0.8</td>\n",
              "      <td>(6)</td>\n",
              "    </tr>\n",
              "    <tr>\n",
              "      <th>3</th>\n",
              "      <td>0.6</td>\n",
              "      <td>(3)</td>\n",
              "    </tr>\n",
              "    <tr>\n",
              "      <th>4</th>\n",
              "      <td>0.6</td>\n",
              "      <td>(2)</td>\n",
              "    </tr>\n",
              "    <tr>\n",
              "      <th>5</th>\n",
              "      <td>0.6</td>\n",
              "      <td>(0)</td>\n",
              "    </tr>\n",
              "    <tr>\n",
              "      <th>6</th>\n",
              "      <td>0.4</td>\n",
              "      <td>(5)</td>\n",
              "    </tr>\n",
              "    <tr>\n",
              "      <th>7</th>\n",
              "      <td>0.4</td>\n",
              "      <td>(1)</td>\n",
              "    </tr>\n",
              "    <tr>\n",
              "      <th>8</th>\n",
              "      <td>0.8</td>\n",
              "      <td>(8, 7)</td>\n",
              "    </tr>\n",
              "    <tr>\n",
              "      <th>9</th>\n",
              "      <td>0.8</td>\n",
              "      <td>(6, 7)</td>\n",
              "    </tr>\n",
              "    <tr>\n",
              "      <th>10</th>\n",
              "      <td>0.8</td>\n",
              "      <td>(8, 6)</td>\n",
              "    </tr>\n",
              "    <tr>\n",
              "      <th>11</th>\n",
              "      <td>0.8</td>\n",
              "      <td>(8, 6, 7)</td>\n",
              "    </tr>\n",
              "    <tr>\n",
              "      <th>12</th>\n",
              "      <td>0.6</td>\n",
              "      <td>(3, 6)</td>\n",
              "    </tr>\n",
              "    <tr>\n",
              "      <th>13</th>\n",
              "      <td>0.6</td>\n",
              "      <td>(3, 7)</td>\n",
              "    </tr>\n",
              "    <tr>\n",
              "      <th>14</th>\n",
              "      <td>0.6</td>\n",
              "      <td>(8, 3)</td>\n",
              "    </tr>\n",
              "    <tr>\n",
              "      <th>15</th>\n",
              "      <td>0.6</td>\n",
              "      <td>(3, 6, 7)</td>\n",
              "    </tr>\n",
              "    <tr>\n",
              "      <th>16</th>\n",
              "      <td>0.6</td>\n",
              "      <td>(8, 3, 6)</td>\n",
              "    </tr>\n",
              "    <tr>\n",
              "      <th>17</th>\n",
              "      <td>0.6</td>\n",
              "      <td>(8, 3, 7)</td>\n",
              "    </tr>\n",
              "    <tr>\n",
              "      <th>18</th>\n",
              "      <td>0.6</td>\n",
              "      <td>(8, 3, 6, 7)</td>\n",
              "    </tr>\n",
              "    <tr>\n",
              "      <th>19</th>\n",
              "      <td>0.6</td>\n",
              "      <td>(8, 2)</td>\n",
              "    </tr>\n",
              "    <tr>\n",
              "      <th>20</th>\n",
              "      <td>0.4</td>\n",
              "      <td>(2, 6)</td>\n",
              "    </tr>\n",
              "    <tr>\n",
              "      <th>21</th>\n",
              "      <td>0.4</td>\n",
              "      <td>(2, 7)</td>\n",
              "    </tr>\n",
              "    <tr>\n",
              "      <th>22</th>\n",
              "      <td>0.4</td>\n",
              "      <td>(8, 2, 6)</td>\n",
              "    </tr>\n",
              "    <tr>\n",
              "      <th>23</th>\n",
              "      <td>0.4</td>\n",
              "      <td>(8, 2, 7)</td>\n",
              "    </tr>\n",
              "    <tr>\n",
              "      <th>24</th>\n",
              "      <td>0.4</td>\n",
              "      <td>(2, 6, 7)</td>\n",
              "    </tr>\n",
              "    <tr>\n",
              "      <th>25</th>\n",
              "      <td>0.4</td>\n",
              "      <td>(8, 2, 6, 7)</td>\n",
              "    </tr>\n",
              "    <tr>\n",
              "      <th>26</th>\n",
              "      <td>0.6</td>\n",
              "      <td>(0, 8)</td>\n",
              "    </tr>\n",
              "    <tr>\n",
              "      <th>27</th>\n",
              "      <td>0.4</td>\n",
              "      <td>(0, 2)</td>\n",
              "    </tr>\n",
              "    <tr>\n",
              "      <th>28</th>\n",
              "      <td>0.4</td>\n",
              "      <td>(0, 3)</td>\n",
              "    </tr>\n",
              "    <tr>\n",
              "      <th>29</th>\n",
              "      <td>0.4</td>\n",
              "      <td>(0, 6)</td>\n",
              "    </tr>\n",
              "    <tr>\n",
              "      <th>30</th>\n",
              "      <td>0.4</td>\n",
              "      <td>(0, 7)</td>\n",
              "    </tr>\n",
              "    <tr>\n",
              "      <th>31</th>\n",
              "      <td>0.4</td>\n",
              "      <td>(0, 8, 2)</td>\n",
              "    </tr>\n",
              "    <tr>\n",
              "      <th>32</th>\n",
              "      <td>0.4</td>\n",
              "      <td>(0, 8, 3)</td>\n",
              "    </tr>\n",
              "    <tr>\n",
              "      <th>33</th>\n",
              "      <td>0.4</td>\n",
              "      <td>(0, 3, 6)</td>\n",
              "    </tr>\n",
              "    <tr>\n",
              "      <th>34</th>\n",
              "      <td>0.4</td>\n",
              "      <td>(0, 8, 6)</td>\n",
              "    </tr>\n",
              "    <tr>\n",
              "      <th>35</th>\n",
              "      <td>0.4</td>\n",
              "      <td>(0, 8, 3, 6)</td>\n",
              "    </tr>\n",
              "    <tr>\n",
              "      <th>36</th>\n",
              "      <td>0.4</td>\n",
              "      <td>(0, 6, 7)</td>\n",
              "    </tr>\n",
              "    <tr>\n",
              "      <th>37</th>\n",
              "      <td>0.4</td>\n",
              "      <td>(0, 3, 7)</td>\n",
              "    </tr>\n",
              "    <tr>\n",
              "      <th>38</th>\n",
              "      <td>0.4</td>\n",
              "      <td>(0, 8, 7)</td>\n",
              "    </tr>\n",
              "    <tr>\n",
              "      <th>39</th>\n",
              "      <td>0.4</td>\n",
              "      <td>(0, 3, 6, 7)</td>\n",
              "    </tr>\n",
              "    <tr>\n",
              "      <th>40</th>\n",
              "      <td>0.4</td>\n",
              "      <td>(0, 8, 6, 7)</td>\n",
              "    </tr>\n",
              "    <tr>\n",
              "      <th>41</th>\n",
              "      <td>0.4</td>\n",
              "      <td>(0, 8, 3, 7)</td>\n",
              "    </tr>\n",
              "    <tr>\n",
              "      <th>42</th>\n",
              "      <td>0.4</td>\n",
              "      <td>(0, 3, 6, 7, 8)</td>\n",
              "    </tr>\n",
              "    <tr>\n",
              "      <th>43</th>\n",
              "      <td>0.4</td>\n",
              "      <td>(8, 5)</td>\n",
              "    </tr>\n",
              "    <tr>\n",
              "      <th>44</th>\n",
              "      <td>0.4</td>\n",
              "      <td>(1, 5)</td>\n",
              "    </tr>\n",
              "    <tr>\n",
              "      <th>45</th>\n",
              "      <td>0.4</td>\n",
              "      <td>(8, 1)</td>\n",
              "    </tr>\n",
              "    <tr>\n",
              "      <th>46</th>\n",
              "      <td>0.4</td>\n",
              "      <td>(8, 1, 5)</td>\n",
              "    </tr>\n",
              "  </tbody>\n",
              "</table>\n",
              "</div>"
            ],
            "text/plain": [
              "    support         itemsets\n",
              "0       1.0              (8)\n",
              "1       0.8              (7)\n",
              "2       0.8              (6)\n",
              "3       0.6              (3)\n",
              "4       0.6              (2)\n",
              "5       0.6              (0)\n",
              "6       0.4              (5)\n",
              "7       0.4              (1)\n",
              "8       0.8           (8, 7)\n",
              "9       0.8           (6, 7)\n",
              "10      0.8           (8, 6)\n",
              "11      0.8        (8, 6, 7)\n",
              "12      0.6           (3, 6)\n",
              "13      0.6           (3, 7)\n",
              "14      0.6           (8, 3)\n",
              "15      0.6        (3, 6, 7)\n",
              "16      0.6        (8, 3, 6)\n",
              "17      0.6        (8, 3, 7)\n",
              "18      0.6     (8, 3, 6, 7)\n",
              "19      0.6           (8, 2)\n",
              "20      0.4           (2, 6)\n",
              "21      0.4           (2, 7)\n",
              "22      0.4        (8, 2, 6)\n",
              "23      0.4        (8, 2, 7)\n",
              "24      0.4        (2, 6, 7)\n",
              "25      0.4     (8, 2, 6, 7)\n",
              "26      0.6           (0, 8)\n",
              "27      0.4           (0, 2)\n",
              "28      0.4           (0, 3)\n",
              "29      0.4           (0, 6)\n",
              "30      0.4           (0, 7)\n",
              "31      0.4        (0, 8, 2)\n",
              "32      0.4        (0, 8, 3)\n",
              "33      0.4        (0, 3, 6)\n",
              "34      0.4        (0, 8, 6)\n",
              "35      0.4     (0, 8, 3, 6)\n",
              "36      0.4        (0, 6, 7)\n",
              "37      0.4        (0, 3, 7)\n",
              "38      0.4        (0, 8, 7)\n",
              "39      0.4     (0, 3, 6, 7)\n",
              "40      0.4     (0, 8, 6, 7)\n",
              "41      0.4     (0, 8, 3, 7)\n",
              "42      0.4  (0, 3, 6, 7, 8)\n",
              "43      0.4           (8, 5)\n",
              "44      0.4           (1, 5)\n",
              "45      0.4           (8, 1)\n",
              "46      0.4        (8, 1, 5)"
            ]
          },
          "metadata": {},
          "execution_count": 54
        }
      ]
    },
    {
      "cell_type": "code",
      "metadata": {
        "colab": {
          "base_uri": "https://localhost:8080/",
          "height": 0
        },
        "id": "Tw0XrXWhj1Fz",
        "outputId": "63916f10-5590-4b9c-98d9-baefee820c08"
      },
      "source": [
        "fpgrowth(fpgrowth_result, min_support=0.7, use_colnames=True)"
      ],
      "execution_count": 55,
      "outputs": [
        {
          "output_type": "execute_result",
          "data": {
            "text/html": [
              "<div>\n",
              "<style scoped>\n",
              "    .dataframe tbody tr th:only-of-type {\n",
              "        vertical-align: middle;\n",
              "    }\n",
              "\n",
              "    .dataframe tbody tr th {\n",
              "        vertical-align: top;\n",
              "    }\n",
              "\n",
              "    .dataframe thead th {\n",
              "        text-align: right;\n",
              "    }\n",
              "</style>\n",
              "<table border=\"1\" class=\"dataframe\">\n",
              "  <thead>\n",
              "    <tr style=\"text-align: right;\">\n",
              "      <th></th>\n",
              "      <th>support</th>\n",
              "      <th>itemsets</th>\n",
              "    </tr>\n",
              "  </thead>\n",
              "  <tbody>\n",
              "    <tr>\n",
              "      <th>0</th>\n",
              "      <td>1.0</td>\n",
              "      <td>(Tommy)</td>\n",
              "    </tr>\n",
              "    <tr>\n",
              "      <th>1</th>\n",
              "      <td>0.8</td>\n",
              "      <td>(John)</td>\n",
              "    </tr>\n",
              "    <tr>\n",
              "      <th>2</th>\n",
              "      <td>0.8</td>\n",
              "      <td>(Joe)</td>\n",
              "    </tr>\n",
              "    <tr>\n",
              "      <th>3</th>\n",
              "      <td>0.8</td>\n",
              "      <td>(Tommy, John)</td>\n",
              "    </tr>\n",
              "    <tr>\n",
              "      <th>4</th>\n",
              "      <td>0.8</td>\n",
              "      <td>(Tommy, Joe)</td>\n",
              "    </tr>\n",
              "    <tr>\n",
              "      <th>5</th>\n",
              "      <td>0.8</td>\n",
              "      <td>(Joe, John)</td>\n",
              "    </tr>\n",
              "    <tr>\n",
              "      <th>6</th>\n",
              "      <td>0.8</td>\n",
              "      <td>(Tommy, John, Joe)</td>\n",
              "    </tr>\n",
              "  </tbody>\n",
              "</table>\n",
              "</div>"
            ],
            "text/plain": [
              "   support            itemsets\n",
              "0      1.0             (Tommy)\n",
              "1      0.8              (John)\n",
              "2      0.8               (Joe)\n",
              "3      0.8       (Tommy, John)\n",
              "4      0.8        (Tommy, Joe)\n",
              "5      0.8         (Joe, John)\n",
              "6      0.8  (Tommy, John, Joe)"
            ]
          },
          "metadata": {},
          "execution_count": 55
        }
      ]
    },
    {
      "cell_type": "markdown",
      "metadata": {
        "id": "GAStVe2KqqOM"
      },
      "source": [
        "# GBM method"
      ]
    },
    {
      "cell_type": "code",
      "metadata": {
        "id": "sl1pVJktsAE_"
      },
      "source": [
        "# Import all the libraries\n",
        "from sklearn.datasets import make_hastie_10_2\n",
        "from sklearn.ensemble import GradientBoostingClassifier"
      ],
      "execution_count": 56,
      "outputs": []
    },
    {
      "cell_type": "code",
      "metadata": {
        "id": "LsXHuAqSq0Ku"
      },
      "source": [
        "# Splitting the data into training and test datasets\n",
        "gbm_x, gbm_y = make_hastie_10_2(n_samples=12000, random_state=None)\n",
        "gbm_train, gbm_test = gbm_x[:1050], gbm_x[1050:]\n",
        "gbm1_train, gbm1_test = gbm_y[:1050], gbm_y[1050:]"
      ],
      "execution_count": 57,
      "outputs": []
    },
    {
      "cell_type": "code",
      "metadata": {
        "colab": {
          "base_uri": "https://localhost:8080/"
        },
        "id": "wpJypS7-sxvR",
        "outputId": "b19dc94f-297b-41ab-cc7a-d42283df5d60"
      },
      "source": [
        "# Applying GBM method\n",
        "gbm_result = GradientBoostingClassifier(n_estimators=100, learning_rate=1.0,\n",
        "    max_depth=1, random_state=0).fit(gbm_train, gbm1_train)\n",
        "gbm_result.score(gbm_test, gbm1_test)"
      ],
      "execution_count": 58,
      "outputs": [
        {
          "output_type": "execute_result",
          "data": {
            "text/plain": [
              "0.8987214611872146"
            ]
          },
          "metadata": {},
          "execution_count": 58
        }
      ]
    },
    {
      "cell_type": "markdown",
      "metadata": {
        "id": "DLBQdbY716Eb"
      },
      "source": [
        "# K-Means"
      ]
    },
    {
      "cell_type": "code",
      "metadata": {
        "id": "fw5XLmtn2DsL"
      },
      "source": [
        "# Import all the required libraries \n",
        "import matplotlib.pyplot as plt\n",
        "from sklearn.datasets import make_blobs\n",
        "from sklearn.cluster import KMeans\n",
        "from sklearn.metrics import silhouette_score\n",
        "from sklearn.preprocessing import StandardScaler"
      ],
      "execution_count": 59,
      "outputs": []
    },
    {
      "cell_type": "code",
      "metadata": {
        "id": "lrVdqodX2T9q"
      },
      "source": [
        "kmeans_data, true_labels = make_blobs(\n",
        "    n_samples=250,\n",
        "    centers=5,\n",
        "    cluster_std=5,\n",
        "    random_state=42\n",
        ")"
      ],
      "execution_count": 60,
      "outputs": []
    },
    {
      "cell_type": "code",
      "metadata": {
        "id": "CDtdl2k52WVP"
      },
      "source": [
        "# Transforming the data\n",
        "scaler_data = StandardScaler()\n",
        "kmeans_scaled_data = scaler_data.fit_transform(kmeans_data)"
      ],
      "execution_count": 61,
      "outputs": []
    },
    {
      "cell_type": "code",
      "metadata": {
        "colab": {
          "base_uri": "https://localhost:8080/"
        },
        "id": "ZiUk8ZqS2Zsw",
        "outputId": "63876c45-795c-4a9b-9fb2-fcc43804a3e0"
      },
      "source": [
        "kmeans_result = KMeans(\n",
        "    init=\"random\",\n",
        "    n_clusters=3,\n",
        "    n_init=10,\n",
        "    max_iter=350,\n",
        "    random_state=42\n",
        ")\n",
        "\n",
        "kmeans_result.fit(kmeans_scaled_data)"
      ],
      "execution_count": 62,
      "outputs": [
        {
          "output_type": "execute_result",
          "data": {
            "text/plain": [
              "KMeans(init='random', max_iter=350, n_clusters=3, random_state=42)"
            ]
          },
          "metadata": {},
          "execution_count": 62
        }
      ]
    },
    {
      "cell_type": "code",
      "metadata": {
        "id": "jiAhU4nJ2dDl"
      },
      "source": [
        "# The lowest SSE value\n",
        "kmeans_result.inertia_\n",
        "\n",
        "# Final locations of the centroid\n",
        "kmeans_result.cluster_centers_\n",
        "\n",
        "# The number of iterations required to converge\n",
        "kmeans_result.n_iter_\n",
        "\n",
        "kmeans_kwargs = {\n",
        "    \"init\": \"random\",\n",
        "    \"n_init\": 10,\n",
        "    \"max_iter\": 350,\n",
        "    \"random_state\": 42,\n",
        "}\n",
        "\n",
        "# A list holds the SSE values for each k\n",
        "kmeans_sse = []\n",
        "for k in range(1, 5):\n",
        "    kmeans_result = KMeans(n_clusters=k, **kmeans_kwargs)\n",
        "    kmeans_result.fit(kmeans_scaled_data)\n",
        "    kmeans_sse.append(kmeans_result.inertia_)"
      ],
      "execution_count": 63,
      "outputs": []
    },
    {
      "cell_type": "code",
      "metadata": {
        "colab": {
          "base_uri": "https://localhost:8080/",
          "height": 0
        },
        "id": "JEO_-xRO2gur",
        "outputId": "8822759a-6f2d-4ea4-98fb-f22f06557463"
      },
      "source": [
        "plt.style.use(\"fivethirtyeight\")\n",
        "plt.plot(range(1, 5), kmeans_sse)\n",
        "plt.xticks(range(1, 5))\n",
        "plt.title(' K-Means Clustering \\n')\n",
        "plt.show()"
      ],
      "execution_count": 64,
      "outputs": [
        {
          "output_type": "display_data",
          "data": {
            "image/png": "[encoded data removed]",
            "text/plain": [
              "<Figure size 432x288 with 1 Axes>"
            ]
          },
          "metadata": {}
        }
      ]
    },
    {
      "cell_type": "markdown",
      "metadata": {
        "id": "5J2x0OXl3Bc6"
      },
      "source": [
        "# Decision Trees"
      ]
    },
    {
      "cell_type": "code",
      "metadata": {
        "id": "UTYVDy_V3FE-"
      },
      "source": [
        "# Importing libraries\n",
        "from sklearn.datasets import load_iris\n",
        "from sklearn.tree import DecisionTreeClassifier\n",
        "from sklearn.tree import export_text"
      ],
      "execution_count": 65,
      "outputs": []
    },
    {
      "cell_type": "code",
      "metadata": {
        "id": "42vUZlWGZ2oR"
      },
      "source": [
        "# Loading the data\n",
        "iris = load_iris()"
      ],
      "execution_count": 66,
      "outputs": []
    },
    {
      "cell_type": "code",
      "metadata": {
        "colab": {
          "base_uri": "https://localhost:8080/"
        },
        "id": "BTwI3C99Z9gM",
        "outputId": "a3644767-08f6-4255-b75b-0839a31bf20a"
      },
      "source": [
        "# Applying the decision tree\n",
        "decision_tree = DecisionTreeClassifier(random_state=0, max_depth=2)\n",
        "decision_tree = decision_tree.fit(iris.data, iris.target)\n",
        "r = export_text(decision_tree, feature_names=iris['feature_names'])\n",
        "print(r)"
      ],
      "execution_count": 67,
      "outputs": [
        {
          "output_type": "stream",
          "name": "stdout",
          "text": [
            "|--- petal width (cm) <= 0.80\n",
            "|   |--- class: 0\n",
            "|--- petal width (cm) >  0.80\n",
            "|   |--- petal width (cm) <= 1.75\n",
            "|   |   |--- class: 1\n",
            "|   |--- petal width (cm) >  1.75\n",
            "|   |   |--- class: 2\n",
            "\n"
          ]
        }
      ]
    },
    {
      "cell_type": "markdown",
      "metadata": {
        "id": "0hCRqNTR40Uu"
      },
      "source": [
        "# Random Forest"
      ]
    },
    {
      "cell_type": "code",
      "metadata": {
        "id": "yhu2oa2BatJz"
      },
      "source": [
        "# Importing libraries\n",
        "from sklearn.ensemble import RandomForestClassifier\n",
        "from sklearn.datasets import make_classification"
      ],
      "execution_count": 68,
      "outputs": []
    },
    {
      "cell_type": "code",
      "metadata": {
        "colab": {
          "base_uri": "https://localhost:8080/"
        },
        "id": "HJo832AT5ezX",
        "outputId": "edc614e2-0967-4cfa-ee1c-ccb36f19d57a"
      },
      "source": [
        "# Applying the random forest\n",
        "X, y = make_classification(n_samples=550, n_features=4,\n",
        "                           n_informative=2, n_redundant=0,\n",
        "                           random_state=0, shuffle=False)\n",
        "randomForest_result = RandomForestClassifier(max_depth=2, random_state=0)\n",
        "randomForest_result.fit(X, y)\n",
        "\n",
        "print(randomForest_result.predict([[1, 5, 4, 9]]))"
      ],
      "execution_count": 69,
      "outputs": [
        {
          "output_type": "stream",
          "name": "stdout",
          "text": [
            "[1]\n"
          ]
        }
      ]
    },
    {
      "cell_type": "markdown",
      "metadata": {
        "id": "_VbYiSS08Tth"
      },
      "source": [
        "# Adaboost Algorithm"
      ]
    },
    {
      "cell_type": "code",
      "metadata": {
        "id": "W3B-_yYvbPsn"
      },
      "source": [
        "# evaluate adaboost algorithm for classification\n",
        "from numpy import mean\n",
        "from numpy import std\n",
        "from sklearn.datasets import make_classification\n",
        "from sklearn.model_selection import cross_val_score\n",
        "from sklearn.model_selection import RepeatedStratifiedKFold\n",
        "from sklearn.ensemble import AdaBoostClassifier"
      ],
      "execution_count": 70,
      "outputs": []
    },
    {
      "cell_type": "code",
      "metadata": {
        "id": "gSvNAkZL8Ww3"
      },
      "source": [
        "# define dataset\n",
        "X, y = make_classification(n_samples=1000, n_features=20, n_informative=15, n_redundant=5, random_state=6)\n",
        "# define the model\n",
        "model = AdaBoostClassifier()\n"
      ],
      "execution_count": 71,
      "outputs": []
    },
    {
      "cell_type": "code",
      "metadata": {
        "colab": {
          "base_uri": "https://localhost:8080/"
        },
        "id": "cGJBuC6pbSf0",
        "outputId": "36e7ed68-6e5b-4128-828d-f0dce6f9f02a"
      },
      "source": [
        "# evaluate the model\n",
        "cv = RepeatedStratifiedKFold(n_splits=10, n_repeats=3, random_state=1)\n",
        "n_scores = cross_val_score(model, X, y, scoring='accuracy', cv=cv, n_jobs=-1, error_score='raise')\n",
        "# report performance\n",
        "print('Accuracy: %.3f (%.3f)' % (mean(n_scores), std(n_scores)))"
      ],
      "execution_count": 72,
      "outputs": [
        {
          "output_type": "stream",
          "name": "stdout",
          "text": [
            "Accuracy: 0.806 (0.041)\n"
          ]
        }
      ]
    }
  ]
}